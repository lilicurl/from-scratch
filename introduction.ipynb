{
 "metadata": {
  "language_info": {
   "codemirror_mode": {
    "name": "ipython",
    "version": 3
   },
   "file_extension": ".py",
   "mimetype": "text/x-python",
   "name": "python",
   "nbconvert_exporter": "python",
   "pygments_lexer": "ipython3",
   "version": "3.7.9-final"
  },
  "orig_nbformat": 2,
  "kernelspec": {
   "name": "python37964bitmyenvconda3c0635097c97445295457c29bd18b874",
   "display_name": "Python 3.7.9 64-bit ('myenv': conda)"
  }
 },
 "nbformat": 4,
 "nbformat_minor": 2,
 "cells": [
  {
   "cell_type": "code",
   "execution_count": 14,
   "metadata": {},
   "outputs": [],
   "source": [
    "users = [\n",
    "    { \"id\": 0, \"name\": \"Hero\" },\n",
    "    { \"id\": 1, \"name\": \"Dunn\" },\n",
    "    { \"id\": 2, \"name\": \"Sue\" },\n",
    "    { \"id\": 3, \"name\": \"Chi\" },\n",
    "    { \"id\": 4, \"name\": \"Thor\" },\n",
    "    { \"id\": 5, \"name\": \"Clive\" },\n",
    "    { \"id\": 6, \"name\": \"Hicks\" },\n",
    "    { \"id\": 7, \"name\": \"Devin\" },\n",
    "    { \"id\": 8, \"name\": \"Kate\" },\n",
    "    { \"id\": 9, \"name\": \"Klein\" },\n",
    "    { \"id\": 10, \"name\": \"Jen\" }\n",
    "]"
   ]
  },
  {
   "cell_type": "code",
   "execution_count": 15,
   "metadata": {},
   "outputs": [],
   "source": [
    "friendships = [(0, 1), (0, 2), (1, 2), (1, 3), (2, 3), (3, 4),\n",
    "               (4, 5), (5, 6), (5, 7), (6, 8), (7, 8), (8, 9)]"
   ]
  },
  {
   "cell_type": "code",
   "execution_count": 16,
   "metadata": {},
   "outputs": [],
   "source": [
    "for u in users:\n",
    "    u[\"friends\"] = []"
   ]
  },
  {
   "cell_type": "code",
   "execution_count": 17,
   "metadata": {},
   "outputs": [
    {
     "output_type": "execute_result",
     "data": {
      "text/plain": "[{'id': 0, 'name': 'Hero', 'friends': []},\n {'id': 1, 'name': 'Dunn', 'friends': []},\n {'id': 2, 'name': 'Sue', 'friends': []},\n {'id': 3, 'name': 'Chi', 'friends': []},\n {'id': 4, 'name': 'Thor', 'friends': []},\n {'id': 5, 'name': 'Clive', 'friends': []},\n {'id': 6, 'name': 'Hicks', 'friends': []},\n {'id': 7, 'name': 'Devin', 'friends': []},\n {'id': 8, 'name': 'Kate', 'friends': []},\n {'id': 9, 'name': 'Klein', 'friends': []},\n {'id': 10, 'name': 'Jen', 'friends': []}]"
     },
     "metadata": {},
     "execution_count": 17
    }
   ],
   "source": [
    "users"
   ]
  },
  {
   "cell_type": "code",
   "execution_count": 23,
   "metadata": {
    "tags": []
   },
   "outputs": [
    {
     "output_type": "stream",
     "name": "stdout",
     "text": "0 1 (0, 1)\n0 2 (0, 2)\n1 2 (1, 2)\n1 3 (1, 3)\n2 3 (2, 3)\n3 4 (3, 4)\n4 5 (4, 5)\n5 6 (5, 6)\n5 7 (5, 7)\n6 8 (6, 8)\n7 8 (7, 8)\n8 9 (8, 9)\n"
    }
   ],
   "source": [
    "for f in friendships:\n",
    "    print(f[0], f[1], f)\n",
    "    "
   ]
  },
  {
   "cell_type": "code",
   "execution_count": 24,
   "metadata": {},
   "outputs": [],
   "source": [
    "for f in friendships:\n",
    "    users[f[0]][\"friends\"].append(f[1])\n",
    "    users[f[1]][\"friends\"].append(f[0])"
   ]
  },
  {
   "cell_type": "code",
   "execution_count": 25,
   "metadata": {},
   "outputs": [
    {
     "output_type": "execute_result",
     "data": {
      "text/plain": "[{'id': 0, 'name': 'Hero', 'friends': [1, 2]},\n {'id': 1, 'name': 'Dunn', 'friends': [0, 2, 3]},\n {'id': 2, 'name': 'Sue', 'friends': [0, 1, 3]},\n {'id': 3, 'name': 'Chi', 'friends': [1, 2, 4]},\n {'id': 4, 'name': 'Thor', 'friends': [3, 5]},\n {'id': 5, 'name': 'Clive', 'friends': [4, 6, 7]},\n {'id': 6, 'name': 'Hicks', 'friends': [5, 8]},\n {'id': 7, 'name': 'Devin', 'friends': [5, 8]},\n {'id': 8, 'name': 'Kate', 'friends': [6, 7, 9]},\n {'id': 9, 'name': 'Klein', 'friends': [8]},\n {'id': 10, 'name': 'Jen', 'friends': []}]"
     },
     "metadata": {},
     "execution_count": 25
    }
   ],
   "source": [
    "users"
   ]
  },
  {
   "cell_type": "code",
   "execution_count": 26,
   "metadata": {},
   "outputs": [],
   "source": [
    "def tamanoDeAmigos(user):\n",
    "    return len(user[\"friends\"])"
   ]
  },
  {
   "cell_type": "code",
   "execution_count": 27,
   "metadata": {},
   "outputs": [
    {
     "output_type": "execute_result",
     "data": {
      "text/plain": "24"
     },
     "metadata": {},
     "execution_count": 27
    }
   ],
   "source": [
    "sum(tamanoDeAmigos(u) for u in users)"
   ]
  },
  {
   "cell_type": "code",
   "execution_count": 32,
   "metadata": {},
   "outputs": [
    {
     "output_type": "execute_result",
     "data": {
      "text/plain": "2.1818181818181817"
     },
     "metadata": {},
     "execution_count": 32
    }
   ],
   "source": [
    "24/len(users)\n"
   ]
  },
  {
   "cell_type": "code",
   "execution_count": 34,
   "metadata": {},
   "outputs": [
    {
     "output_type": "execute_result",
     "data": {
      "text/plain": "[(0, 2),\n (1, 3),\n (2, 3),\n (3, 3),\n (4, 2),\n (5, 3),\n (6, 2),\n (7, 2),\n (8, 3),\n (9, 1),\n (10, 0)]"
     },
     "metadata": {},
     "execution_count": 34
    }
   ],
   "source": [
    "numeroDeAmigosById = [(user[\"id\"], tamanoDeAmigos(user)) for user in users]\n",
    "numeroDeAmigosById "
   ]
  },
  {
   "cell_type": "code",
   "execution_count": 53,
   "metadata": {},
   "outputs": [
    {
     "output_type": "execute_result",
     "data": {
      "text/plain": "[(1, 3),\n (2, 3),\n (3, 3),\n (5, 3),\n (8, 3),\n (0, 2),\n (4, 2),\n (6, 2),\n (7, 2),\n (9, 1),\n (10, 0)]"
     },
     "metadata": {},
     "execution_count": 53
    }
   ],
   "source": [
    "sorted(numeroDeAmigosById, key=lambda friend : friend[1], reverse=True)"
   ]
  },
  {
   "cell_type": "code",
   "execution_count": 55,
   "metadata": {},
   "outputs": [],
   "source": [
    "for u in users:\n",
    "    u[\"friendsE\"] = []"
   ]
  },
  {
   "cell_type": "code",
   "execution_count": 56,
   "metadata": {},
   "outputs": [],
   "source": [
    "for f in friendships:\n",
    "    users[f[0]][\"friendsE\"].append(users[f[1]])\n",
    "    users[f[1]][\"friendsE\"].append(users[f[0]])"
   ]
  },
  {
   "cell_type": "code",
   "execution_count": 64,
   "metadata": {
    "tags": []
   },
   "outputs": [
    {
     "output_type": "stream",
     "name": "stdout",
     "text": "[1, 2]\n"
    }
   ],
   "source": [
    "print([friend[\"id\"] for friend in users[0][\"friendsE\"]])"
   ]
  },
  {
   "cell_type": "code",
   "execution_count": 2,
   "metadata": {},
   "outputs": [],
   "source": [
    "from collections import Counter"
   ]
  },
  {
   "cell_type": "code",
   "execution_count": 84,
   "metadata": {},
   "outputs": [],
   "source": [
    "def noSonIguales(user, otroUser):\n",
    "    return user[\"id\"] != otroUser[\"id\"]  \n",
    "\n",
    "def noSonAmigos(user, otro_User):\n",
    "    return all(noSonIguales(friend, otro_User)\n",
    "    for friend in user[\"friendsE\"])    \n",
    "\n",
    "def idAmigoDeAmigo(user):\n",
    "    return Counter(adua[\"id\"] \n",
    "    for friends in user[\"friendsE\"]\n",
    "    for adua in friends[\"friendsE\"]\n",
    "    if noSonIguales(user, adua)\n",
    "    and noSonAmigos(user, adua))"
   ]
  },
  {
   "cell_type": "code",
   "execution_count": 88,
   "metadata": {
    "tags": []
   },
   "outputs": [
    {
     "output_type": "execute_result",
     "data": {
      "text/plain": "Counter({0: 2, 5: 1})"
     },
     "metadata": {},
     "execution_count": 88
    }
   ],
   "source": [
    "idAmigoDeAmigo(users[3])\n",
    "# el usuario 3 tiene con el usuario 0, 2 amigos en comun y con el 5, 1 amigo en comun"
   ]
  },
  {
   "cell_type": "code",
   "execution_count": 89,
   "metadata": {},
   "outputs": [],
   "source": [
    "interests = [\n",
    "    (0, \"Hadoop\"), (0, \"Big Data\"), (0, \"HBase\"), (0, \"Java\"),\n",
    "    (0, \"Spark\"), (0, \"Storm\"), (0, \"Cassandra\"),\n",
    "    (1, \"NoSQL\"), (1, \"MongoDB\"), (1, \"Cassandra\"), (1, \"HBase\"),\n",
    "    (1, \"Postgres\"), (2, \"Python\"), (2, \"scikit-learn\"), (2, \"scipy\"),\n",
    "    (2, \"numpy\"), (2, \"statsmodels\"), (2, \"pandas\"), (3, \"R\"), (3, \"Python\"),\n",
    "    (3, \"statistics\"), (3, \"regression\"), (3, \"probability\"),\n",
    "    (4, \"machine learning\"), (4, \"regression\"), (4, \"decision trees\"),\n",
    "    (4, \"libsvm\"), (5, \"Python\"), (5, \"R\"), (5, \"Java\"), (5, \"C++\"),\n",
    "    (5, \"Haskell\"), (5, \"programming languages\"), (6, \"statistics\"),\n",
    "    (6, \"probability\"), (6, \"mathematics\"), (6, \"theory\"),\n",
    "    (7, \"machine learning\"), (7, \"scikit-learn\"), (7, \"Mahout\"),\n",
    "    (7, \"neural networks\"), (8, \"neural networks\"), (8, \"deep learning\"),\n",
    "    (8, \"Big Data\"), (8, \"artificial intelligence\"), (9, \"Hadoop\"),\n",
    "    (9, \"Java\"), (9, \"MapReduce\"), (9, \"Big Data\")\n",
    "]"
   ]
  },
  {
   "cell_type": "code",
   "execution_count": 90,
   "metadata": {},
   "outputs": [
    {
     "output_type": "execute_result",
     "data": {
      "text/plain": "Counter({3: 2})"
     },
     "metadata": {},
     "execution_count": 90
    }
   ],
   "source": [
    "idAmigoDeAmigo(users[0])\n"
   ]
  },
  {
   "cell_type": "code",
   "execution_count": 94,
   "metadata": {},
   "outputs": [],
   "source": [
    "for u in users:\n",
    "    u[\"interes\"] = []"
   ]
  },
  {
   "cell_type": "code",
   "execution_count": 95,
   "metadata": {
    "tags": []
   },
   "outputs": [],
   "source": [
    "for i in interests:\n",
    "    users[i[0]][\"interes\"].append(i[1])"
   ]
  },
  {
   "cell_type": "code",
   "execution_count": 97,
   "metadata": {
    "tags": []
   },
   "outputs": [
    {
     "output_type": "stream",
     "name": "stdout",
     "text": "[0, ['Hadoop', 'Big Data', 'HBase', 'Java', 'Spark', 'Storm', 'Cassandra']]\n[1, ['NoSQL', 'MongoDB', 'Cassandra', 'HBase', 'Postgres']]\n[2, ['Python', 'scikit-learn', 'scipy', 'numpy', 'statsmodels', 'pandas']]\n[3, ['R', 'Python', 'statistics', 'regression', 'probability']]\n[4, ['machine learning', 'regression', 'decision trees', 'libsvm']]\n[5, ['Python', 'R', 'Java', 'C++', 'Haskell', 'programming languages']]\n[6, ['statistics', 'probability', 'mathematics', 'theory']]\n[7, ['machine learning', 'scikit-learn', 'Mahout', 'neural networks']]\n[8, ['neural networks', 'deep learning', 'Big Data', 'artificial intelligence']]\n[9, ['Hadoop', 'Java', 'MapReduce', 'Big Data']]\n[10, []]\n"
    }
   ],
   "source": [
    "for u in users:\n",
    "    print([u[\"id\"],u[\"interes\"]])"
   ]
  },
  {
   "cell_type": "code",
   "execution_count": 104,
   "metadata": {
    "tags": []
   },
   "outputs": [
    {
     "output_type": "stream",
     "name": "stdout",
     "text": "[0, 5, 9]\n"
    }
   ],
   "source": [
    "def usuariosConIgualInteres(interes):\n",
    "    print([ id_user for id_user, inter in interests\n",
    "    if inter == interes])\n",
    "usuariosConIgualInteres('Java')    "
   ]
  },
  {
   "cell_type": "code",
   "execution_count": 3,
   "metadata": {},
   "outputs": [],
   "source": [
    "#ahora incluimos un indice para mejorar la busqueda\n",
    "from collections import defaultdict\n"
   ]
  },
  {
   "cell_type": "code",
   "execution_count": 106,
   "metadata": {},
   "outputs": [],
   "source": [
    "#key son los intereses y los valores son listas de usuarios con ese interes\n",
    "usuariosPorIntereses = defaultdict(list)"
   ]
  },
  {
   "cell_type": "code",
   "execution_count": 107,
   "metadata": {},
   "outputs": [],
   "source": [
    "for ids, interes in interests:\n",
    "    usuariosPorIntereses[interes].append(ids)"
   ]
  },
  {
   "cell_type": "code",
   "execution_count": 108,
   "metadata": {},
   "outputs": [
    {
     "output_type": "execute_result",
     "data": {
      "text/plain": "defaultdict(list,\n            {'Hadoop': [0, 9],\n             'Big Data': [0, 8, 9],\n             'HBase': [0, 1],\n             'Java': [0, 5, 9],\n             'Spark': [0],\n             'Storm': [0],\n             'Cassandra': [0, 1],\n             'NoSQL': [1],\n             'MongoDB': [1],\n             'Postgres': [1],\n             'Python': [2, 3, 5],\n             'scikit-learn': [2, 7],\n             'scipy': [2],\n             'numpy': [2],\n             'statsmodels': [2],\n             'pandas': [2],\n             'R': [3, 5],\n             'statistics': [3, 6],\n             'regression': [3, 4],\n             'probability': [3, 6],\n             'machine learning': [4, 7],\n             'decision trees': [4],\n             'libsvm': [4],\n             'C++': [5],\n             'Haskell': [5],\n             'programming languages': [5],\n             'mathematics': [6],\n             'theory': [6],\n             'Mahout': [7],\n             'neural networks': [7, 8],\n             'deep learning': [8],\n             'artificial intelligence': [8],\n             'MapReduce': [9]})"
     },
     "metadata": {},
     "execution_count": 108
    }
   ],
   "source": [
    "usuariosPorIntereses"
   ]
  },
  {
   "cell_type": "code",
   "execution_count": 109,
   "metadata": {},
   "outputs": [],
   "source": [
    "interesesPorUsuarios = defaultdict(list)"
   ]
  },
  {
   "cell_type": "code",
   "execution_count": 110,
   "metadata": {},
   "outputs": [],
   "source": [
    "for u, inter in interests:\n",
    "    interesesPorUsuarios[u].append(inter)"
   ]
  },
  {
   "cell_type": "code",
   "execution_count": 111,
   "metadata": {},
   "outputs": [
    {
     "output_type": "execute_result",
     "data": {
      "text/plain": "defaultdict(list,\n            {0: ['Hadoop',\n              'Big Data',\n              'HBase',\n              'Java',\n              'Spark',\n              'Storm',\n              'Cassandra'],\n             1: ['NoSQL', 'MongoDB', 'Cassandra', 'HBase', 'Postgres'],\n             2: ['Python',\n              'scikit-learn',\n              'scipy',\n              'numpy',\n              'statsmodels',\n              'pandas'],\n             3: ['R', 'Python', 'statistics', 'regression', 'probability'],\n             4: ['machine learning', 'regression', 'decision trees', 'libsvm'],\n             5: ['Python',\n              'R',\n              'Java',\n              'C++',\n              'Haskell',\n              'programming languages'],\n             6: ['statistics', 'probability', 'mathematics', 'theory'],\n             7: ['machine learning',\n              'scikit-learn',\n              'Mahout',\n              'neural networks'],\n             8: ['neural networks',\n              'deep learning',\n              'Big Data',\n              'artificial intelligence'],\n             9: ['Hadoop', 'Java', 'MapReduce', 'Big Data']})"
     },
     "metadata": {},
     "execution_count": 111
    }
   ],
   "source": [
    "interesesPorUsuarios"
   ]
  },
  {
   "cell_type": "code",
   "execution_count": 142,
   "metadata": {},
   "outputs": [
    {
     "output_type": "execute_result",
     "data": {
      "text/plain": "Counter({9: 3, 8: 1, 1: 2, 5: 1})"
     },
     "metadata": {},
     "execution_count": 142
    }
   ],
   "source": [
    "def interesesEnComun(user):\n",
    "    return Counter(i for u in interesesPorUsuarios[user[\"id\"]]\n",
    "for i in usuariosPorIntereses[u] \n",
    "if i != user[\"id\"])\n",
    "interesesEnComun(users[0])    "
   ]
  },
  {
   "cell_type": "code",
   "execution_count": 140,
   "metadata": {
    "tags": []
   },
   "outputs": [
    {
     "output_type": "stream",
     "name": "stdout",
     "text": "[[9, 'Hadoop'], [8, 'Big Data'], [9, 'Big Data'], [1, 'HBase'], [5, 'Java'], [9, 'Java'], [1, 'Cassandra']]\n"
    }
   ],
   "source": [
    "print([[i,u] for u in interesesPorUsuarios[users[0][\"id\"]]\n",
    "for i in usuariosPorIntereses[u] \n",
    "if i != users[0][\"id\"]\n",
    " ])"
   ]
  },
  {
   "cell_type": "code",
   "execution_count": 138,
   "metadata": {
    "tags": []
   },
   "outputs": [
    {
     "output_type": "stream",
     "name": "stdout",
     "text": "['Hadoop', 'Big Data', 'HBase', 'Java', 'Spark', 'Storm', 'Cassandra']\n"
    }
   ],
   "source": [
    "print([u for u in interesesPorUsuarios[users[0][\"id\"]]])"
   ]
  },
  {
   "cell_type": "code",
   "execution_count": 127,
   "metadata": {
    "tags": []
   },
   "outputs": [
    {
     "output_type": "stream",
     "name": "stdout",
     "text": "[0, 9]\n"
    }
   ],
   "source": [
    "print([i for i in usuariosPorIntereses['Hadoop']])\n"
   ]
  },
  {
   "cell_type": "code",
   "execution_count": 1,
   "metadata": {},
   "outputs": [],
   "source": [
    "salaries_and_tenures = [(83000, 8.7), (88000, 8.1),\n",
    "                        (48000, 0.7), (76000, 6),\n",
    "                        (69000, 6.5), (76000, 7.5),\n",
    "                        (60000, 2.5), (83000, 10),\n",
    "                        (48000, 1.9), (63000, 4.2)]"
   ]
  },
  {
   "cell_type": "code",
   "execution_count": 21,
   "metadata": {},
   "outputs": [],
   "source": [
    "salarioPorTenencia = defaultdict(list)"
   ]
  },
  {
   "cell_type": "code",
   "execution_count": 11,
   "metadata": {
    "tags": []
   },
   "outputs": [
    {
     "output_type": "stream",
     "name": "stdout",
     "text": "[(83000, 8.7), (88000, 8.1), (48000, 0.7), (76000, 6), (69000, 6.5), (76000, 7.5), (60000, 2.5), (83000, 10), (48000, 1.9), (63000, 4.2)]\n"
    }
   ],
   "source": [
    "print([(s, t) for s,t in salaries_and_tenures])"
   ]
  },
  {
   "cell_type": "code",
   "execution_count": 23,
   "metadata": {},
   "outputs": [],
   "source": [
    "for s,t in salaries_and_tenures:\n",
    "    salarioPorTenencia[s].append(t)"
   ]
  },
  {
   "cell_type": "code",
   "execution_count": 24,
   "metadata": {},
   "outputs": [
    {
     "output_type": "execute_result",
     "data": {
      "text/plain": "defaultdict(list,\n            {83000: [8.7, 10],\n             88000: [8.1],\n             48000: [0.7, 1.9],\n             76000: [6, 7.5],\n             69000: [6.5],\n             60000: [2.5],\n             63000: [4.2]})"
     },
     "metadata": {},
     "execution_count": 24
    }
   ],
   "source": [
    "salarioPorTenencia"
   ]
  },
  {
   "cell_type": "code",
   "execution_count": 14,
   "metadata": {},
   "outputs": [],
   "source": [
    "tenenciaPorSalario = defaultdict(list)"
   ]
  },
  {
   "cell_type": "code",
   "execution_count": 25,
   "metadata": {},
   "outputs": [],
   "source": [
    "for s,t in salaries_and_tenures:\n",
    "    tenenciaPorSalario[t].append(s)"
   ]
  },
  {
   "cell_type": "code",
   "execution_count": 26,
   "metadata": {},
   "outputs": [
    {
     "output_type": "execute_result",
     "data": {
      "text/plain": "defaultdict(list,\n            {8.7: [83000],\n             8.1: [88000],\n             0.7: [48000],\n             6: [76000],\n             6.5: [69000],\n             7.5: [76000],\n             2.5: [60000],\n             10: [83000],\n             1.9: [48000],\n             4.2: [63000]})"
     },
     "metadata": {},
     "execution_count": 26
    }
   ],
   "source": [
    "tenenciaPorSalario"
   ]
  },
  {
   "cell_type": "code",
   "execution_count": 75,
   "metadata": {
    "tags": []
   },
   "outputs": [],
   "source": [
    "def salarioBucket(salario):\n",
    "    if salario < 20000:\n",
    "        return \"menos de dos\"\n",
    "    if salario < 50000:\n",
    "        return \"menos que 5\"\n",
    "    else:\n",
    "        return \"mas de 5\"        "
   ]
  },
  {
   "cell_type": "code",
   "execution_count": 77,
   "metadata": {
    "tags": []
   },
   "outputs": [
    {
     "output_type": "stream",
     "name": "stdout",
     "text": "[(83000, 'mas de 5'), (88000, 'mas de 5'), (48000, 'menos que 5'), (76000, 'mas de 5'), (69000, 'mas de 5'), (60000, 'mas de 5'), (63000, 'mas de 5')]\n"
    }
   ],
   "source": [
    "print([(s, salarioBucket(s)) for s in salarioPorTenencia])"
   ]
  },
  {
   "cell_type": "code",
   "execution_count": 78,
   "metadata": {},
   "outputs": [],
   "source": [
    "salarioBucketDict = defaultdict(list)\n"
   ]
  },
  {
   "cell_type": "code",
   "execution_count": null,
   "metadata": {},
   "outputs": [],
   "source": []
  }
 ]
}